{
  "nbformat": 4,
  "nbformat_minor": 0,
  "metadata": {
    "colab": {
      "provenance": []
    },
    "kernelspec": {
      "name": "python3",
      "display_name": "Python 3"
    },
    "language_info": {
      "name": "python"
    }
  },
  "cells": [
    {
      "cell_type": "code",
      "source": [
        "from math import ceil, floor\n",
        "import pandas as pd\n",
        "\n",
        "# -------------------\n",
        "# INPUT PARAMETERS\n",
        "# -------------------\n",
        "panel_watt = 650         # W per panel\n",
        "panel_vmp = 43.2         # V at max power\n",
        "panel_voc = 49.8         # V open circuit\n",
        "daily_consumption = 1150 # kWh/day\n",
        "percent_to_cover = 0.7\n",
        "sunshine_hours = 5.9\n",
        "\n",
        "# -------------------\n",
        "# INVERTER DATA (AC kW from column L)\n",
        "# -------------------\n",
        "inverters = [\n",
        "    {\"Model\": \"VST-40K\",  \"ACkW\": 40,  \"MinMPPT\": 100, \"MaxMPPT\": 1000, \"TotalStrings\": 8},\n",
        "    {\"Model\": \"VST-50K\",  \"ACkW\": 50,  \"MinMPPT\": 100, \"MaxMPPT\": 1000, \"TotalStrings\": 10},\n",
        "    {\"Model\": \"VST-60K\",  \"ACkW\": 60,  \"MinMPPT\": 100, \"MaxMPPT\": 1000, \"TotalStrings\": 12},\n",
        "    {\"Model\": \"VST-100K\", \"ACkW\": 100, \"MinMPPT\": 150, \"MaxMPPT\": 1000, \"TotalStrings\": 18},\n",
        "    {\"Model\": \"VST-110K\", \"ACkW\": 110, \"MinMPPT\": 150, \"MaxMPPT\": 1000, \"TotalStrings\": 18},\n",
        "    {\"Model\": \"VST-120K\", \"ACkW\": 120, \"MinMPPT\": 150, \"MaxMPPT\": 1000, \"TotalStrings\": 24},\n",
        "    {\"Model\": \"VST-125K\", \"ACkW\": 125, \"MinMPPT\": 150, \"MaxMPPT\": 1000, \"TotalStrings\": 24},\n",
        "    {\"Model\": \"VST-130K\", \"ACkW\": 130, \"MinMPPT\": 150, \"MaxMPPT\": 1000, \"TotalStrings\": 24},\n",
        "    {\"Model\": \"VST-136K\", \"ACkW\": 136, \"MinMPPT\": 150, \"MaxMPPT\": 1000, \"TotalStrings\": 24},\n",
        "    {\"Model\": \"VST-140K\", \"ACkW\": 140, \"MinMPPT\": 150, \"MaxMPPT\": 1000, \"TotalStrings\": 24},\n",
        "    {\"Model\": \"VST-150K\", \"ACkW\": 150, \"MinMPPT\": 150, \"MaxMPPT\": 1000, \"TotalStrings\": 24},\n",
        "]\n",
        "\n",
        "# -------------------\n",
        "# STEP 1: Required solar production (kW)\n",
        "# -------------------\n",
        "solar_kw_needed = (daily_consumption * percent_to_cover) / sunshine_hours\n",
        "\n",
        "# -------------------\n",
        "# STEP 2: Select inverter based on AC output\n",
        "# -------------------\n",
        "for inverter in inverters:\n",
        "    inverter[\"InverterCount\"] = ceil(solar_kw_needed / inverter[\"ACkW\"])\n",
        "\n",
        "# Select inverter with minimum required count\n",
        "best_inverter = min(inverters, key=lambda x: x[\"InverterCount\"])\n",
        "\n",
        "# -------------------\n",
        "# STEP 3: String configuration\n",
        "# -------------------\n",
        "max_string_size = floor(best_inverter[\"MaxMPPT\"] / panel_voc)\n",
        "min_string_size = ceil(best_inverter[\"MinMPPT\"] / panel_vmp)\n",
        "\n",
        "# Estimate string count per inverter based on power required\n",
        "strings_per_inverter = ceil(\n",
        "    (solar_kw_needed * 1000) / (best_inverter[\"InverterCount\"] * max_string_size * panel_watt)\n",
        ")\n",
        "total_strings = strings_per_inverter * best_inverter[\"InverterCount\"]\n",
        "\n",
        "# -------------------\n",
        "# STEP 4: Panel count & PV sizing\n",
        "# -------------------\n",
        "panels_needed = max_string_size * total_strings\n",
        "total_pv_kw = panels_needed * panel_watt / 1000\n",
        "\n",
        "# -------------------\n",
        "# OUTPUT\n",
        "# -------------------\n",
        "result = {\n",
        "    \"Inverter Selection\": best_inverter[\"Model\"],\n",
        "    \"Number of Inverters\": best_inverter[\"InverterCount\"],\n",
        "    \"Max String Size\": max_string_size,\n",
        "    \"Min String Size\": min_string_size,\n",
        "    \"Strings Per Inverter\": strings_per_inverter,\n",
        "    \"Total Strings\": total_strings,\n",
        "    \"Panels Needed\": panels_needed,\n",
        "    \"Total PV kW\": total_pv_kw,\n",
        "    \"Solar kW Needed\": round(solar_kw_needed, 2)\n",
        "}\n",
        "\n",
        "# Output result\n",
        "df = pd.DataFrame([result])\n",
        "print(df.to_string(index=False))\n"
      ],
      "metadata": {
        "colab": {
          "base_uri": "https://localhost:8080/"
        },
        "id": "B8o4mzEDJUH1",
        "outputId": "2fa0966c-56e0-413d-f8dd-963e5559302b"
      },
      "execution_count": 10,
      "outputs": [
        {
          "output_type": "stream",
          "name": "stdout",
          "text": [
            "Inverter Selection  Number of Inverters  Max String Size  Min String Size  Strings Per Inverter  Total Strings  Panels Needed  Total PV kW  Solar kW Needed\n",
            "          VST-140K                    1               20                4                    11             11            220        143.0           136.44\n"
          ]
        }
      ]
    }
  ]
}